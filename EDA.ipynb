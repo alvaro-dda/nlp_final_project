{
 "cells": [
  {
   "cell_type": "code",
   "execution_count": 1,
   "metadata": {},
   "outputs": [
    {
     "data": {
      "text/html": [
       "<div>\n",
       "<style scoped>\n",
       "    .dataframe tbody tr th:only-of-type {\n",
       "        vertical-align: middle;\n",
       "    }\n",
       "\n",
       "    .dataframe tbody tr th {\n",
       "        vertical-align: top;\n",
       "    }\n",
       "\n",
       "    .dataframe thead th {\n",
       "        text-align: right;\n",
       "    }\n",
       "</style>\n",
       "<table border=\"1\" class=\"dataframe\">\n",
       "  <thead>\n",
       "    <tr style=\"text-align: right;\">\n",
       "      <th></th>\n",
       "      <th>date_posted</th>\n",
       "      <th>funny</th>\n",
       "      <th>helpful</th>\n",
       "      <th>hour_played</th>\n",
       "      <th>is_early_access_review</th>\n",
       "      <th>recommendation</th>\n",
       "      <th>review</th>\n",
       "      <th>title</th>\n",
       "    </tr>\n",
       "  </thead>\n",
       "  <tbody>\n",
       "    <tr>\n",
       "      <th>0</th>\n",
       "      <td>2019-02-10</td>\n",
       "      <td>2</td>\n",
       "      <td>4</td>\n",
       "      <td>578</td>\n",
       "      <td>False</td>\n",
       "      <td>Recommended</td>\n",
       "      <td>&amp;gt Played as German Reich&amp;gt Declare war on B...</td>\n",
       "      <td>Expansion - Hearts of Iron IV: Man the Guns</td>\n",
       "    </tr>\n",
       "    <tr>\n",
       "      <th>1</th>\n",
       "      <td>2019-02-10</td>\n",
       "      <td>0</td>\n",
       "      <td>0</td>\n",
       "      <td>184</td>\n",
       "      <td>False</td>\n",
       "      <td>Recommended</td>\n",
       "      <td>yes.</td>\n",
       "      <td>Expansion - Hearts of Iron IV: Man the Guns</td>\n",
       "    </tr>\n",
       "    <tr>\n",
       "      <th>2</th>\n",
       "      <td>2019-02-07</td>\n",
       "      <td>0</td>\n",
       "      <td>0</td>\n",
       "      <td>892</td>\n",
       "      <td>False</td>\n",
       "      <td>Recommended</td>\n",
       "      <td>Very good game although a bit overpriced in my...</td>\n",
       "      <td>Expansion - Hearts of Iron IV: Man the Guns</td>\n",
       "    </tr>\n",
       "    <tr>\n",
       "      <th>3</th>\n",
       "      <td>2018-06-14</td>\n",
       "      <td>126</td>\n",
       "      <td>1086</td>\n",
       "      <td>676</td>\n",
       "      <td>False</td>\n",
       "      <td>Recommended</td>\n",
       "      <td>Out of all the reviews I wrote This one is pro...</td>\n",
       "      <td>Dead by Daylight</td>\n",
       "    </tr>\n",
       "    <tr>\n",
       "      <th>4</th>\n",
       "      <td>2017-06-20</td>\n",
       "      <td>85</td>\n",
       "      <td>2139</td>\n",
       "      <td>612</td>\n",
       "      <td>False</td>\n",
       "      <td>Recommended</td>\n",
       "      <td>Disclaimer I survivor main. I play games for f...</td>\n",
       "      <td>Dead by Daylight</td>\n",
       "    </tr>\n",
       "  </tbody>\n",
       "</table>\n",
       "</div>"
      ],
      "text/plain": [
       "  date_posted  funny  helpful  hour_played  is_early_access_review  \\\n",
       "0  2019-02-10      2        4          578                   False   \n",
       "1  2019-02-10      0        0          184                   False   \n",
       "2  2019-02-07      0        0          892                   False   \n",
       "3  2018-06-14    126     1086          676                   False   \n",
       "4  2017-06-20     85     2139          612                   False   \n",
       "\n",
       "  recommendation                                             review  \\\n",
       "0    Recommended  &gt Played as German Reich&gt Declare war on B...   \n",
       "1    Recommended                                               yes.   \n",
       "2    Recommended  Very good game although a bit overpriced in my...   \n",
       "3    Recommended  Out of all the reviews I wrote This one is pro...   \n",
       "4    Recommended  Disclaimer I survivor main. I play games for f...   \n",
       "\n",
       "                                         title  \n",
       "0  Expansion - Hearts of Iron IV: Man the Guns  \n",
       "1  Expansion - Hearts of Iron IV: Man the Guns  \n",
       "2  Expansion - Hearts of Iron IV: Man the Guns  \n",
       "3                             Dead by Daylight  \n",
       "4                             Dead by Daylight  "
      ]
     },
     "execution_count": 1,
     "metadata": {},
     "output_type": "execute_result"
    }
   ],
   "source": [
    "import pandas as pd\n",
    "import matplotlib.pyplot as plt\n",
    "import seaborn as sns\n",
    "\n",
    "df = pd.read_csv(\"steam_reviews.csv\")\n",
    "df.head()"
   ]
  },
  {
   "cell_type": "code",
   "execution_count": 2,
   "metadata": {},
   "outputs": [
    {
     "name": "stdout",
     "output_type": "stream",
     "text": [
      "<class 'pandas.core.frame.DataFrame'>\n",
      "RangeIndex: 434891 entries, 0 to 434890\n",
      "Data columns (total 8 columns):\n",
      " #   Column                  Non-Null Count   Dtype \n",
      "---  ------                  --------------   ----- \n",
      " 0   date_posted             434891 non-null  object\n",
      " 1   funny                   434891 non-null  int64 \n",
      " 2   helpful                 434891 non-null  int64 \n",
      " 3   hour_played             434891 non-null  int64 \n",
      " 4   is_early_access_review  434891 non-null  bool  \n",
      " 5   recommendation          434891 non-null  object\n",
      " 6   review                  433375 non-null  object\n",
      " 7   title                   434891 non-null  object\n",
      "dtypes: bool(1), int64(3), object(4)\n",
      "memory usage: 23.6+ MB\n"
     ]
    }
   ],
   "source": [
    "df.info()"
   ]
  },
  {
   "cell_type": "code",
   "execution_count": 3,
   "metadata": {},
   "outputs": [
    {
     "name": "stdout",
     "output_type": "stream",
     "text": [
      "Missing values: \n",
      "date_posted                  0\n",
      "funny                        0\n",
      "helpful                      0\n",
      "hour_played                  0\n",
      "is_early_access_review       0\n",
      "recommendation               0\n",
      "review                    1516\n",
      "title                        0\n",
      "dtype: int64\n"
     ]
    }
   ],
   "source": [
    "# missing values\n",
    "print(f\"Missing values: \\n{df.isna().sum()}\")"
   ]
  },
  {
   "cell_type": "code",
   "execution_count": 4,
   "metadata": {},
   "outputs": [],
   "source": [
    "df = df.dropna()"
   ]
  },
  {
   "cell_type": "code",
   "execution_count": 5,
   "metadata": {},
   "outputs": [
    {
     "name": "stdout",
     "output_type": "stream",
     "text": [
      "Unique number of titles:  48\n"
     ]
    },
    {
     "data": {
      "text/plain": [
       "title\n",
       "PLAYERUNKNOWN'S BATTLEGROUNDS                    144846\n",
       "Grand Theft Auto V                                99677\n",
       "Rust                                              70907\n",
       "Rocket League®                                    67765\n",
       "Dead by Daylight                                  22178\n",
       "MONSTER HUNTER: WORLD                             18390\n",
       "ASTRONEER                                          2658\n",
       "The Elder Scrolls V: Skyrim Special Edition        1471\n",
       "RESIDENT EVIL 2 / BIOHAZARD RE:2                   1384\n",
       "Sid Meier’s Civilization® VI                        522\n",
       "Euro Truck Simulator 2                              499\n",
       "Slay the Spire                                      260\n",
       "Terraria                                            260\n",
       "Subnautica                                          247\n",
       "Left 4 Dead 2                                       221\n",
       "Insurgency: Sandstorm                               220\n",
       "RimWorld                                            204\n",
       "Garry's Mod                                         202\n",
       "Stardew Valley                                      202\n",
       "ARK: Survival Evolved                               194\n",
       "Divinity: Original Sin 2 - Definitive Edition       190\n",
       "Human: Fall Flat                                    172\n",
       "Factorio                                            170\n",
       "Wallpaper Engine                                    169\n",
       "Don't Starve Together                               165\n",
       "ACE COMBAT™ 7: SKIES UNKNOWN                         10\n",
       "Battlefleet Gothic: Armada 2                         10\n",
       "Farming Simulator 19                                 10\n",
       "Overcooked! 2                                        10\n",
       "Foundation                                           10\n",
       "Beat Saber                                           10\n",
       "Warhammer 40,000: Mechanicus                         10\n",
       "My Time At Portia                                    10\n",
       "NBA 2K19                                             10\n",
       "Kenshi                                               10\n",
       "Tom Clancy's Rainbow Six® Siege                      10\n",
       "Subnautica: Below Zero                               10\n",
       "GOD EATER 3                                          10\n",
       "Moonlighter                                          10\n",
       "Football Manager 2019                                10\n",
       "Pathfinder: Kingmaker                                10\n",
       "Tannenberg                                           10\n",
       "Cold Waters                                          10\n",
       "Wargroove                                            10\n",
       "Sid Meier's Civilization® VI: Gathering Storm         3\n",
       "Sid Meier’s Civilization® VI: Rise and Fall           3\n",
       "Survivor Pass: Vikendi                                3\n",
       "Expansion - Hearts of Iron IV: Man the Guns           3\n",
       "Name: count, dtype: int64"
      ]
     },
     "execution_count": 5,
     "metadata": {},
     "output_type": "execute_result"
    }
   ],
   "source": [
    "# Unique number of titles\n",
    "print(\"Unique number of titles: \", df[\"title\"].nunique())\n",
    "df[\"title\"].value_counts()"
   ]
  },
  {
   "cell_type": "code",
   "execution_count": 6,
   "metadata": {},
   "outputs": [
    {
     "data": {
      "text/html": [
       "<div>\n",
       "<style scoped>\n",
       "    .dataframe tbody tr th:only-of-type {\n",
       "        vertical-align: middle;\n",
       "    }\n",
       "\n",
       "    .dataframe tbody tr th {\n",
       "        vertical-align: top;\n",
       "    }\n",
       "\n",
       "    .dataframe thead th {\n",
       "        text-align: right;\n",
       "    }\n",
       "</style>\n",
       "<table border=\"1\" class=\"dataframe\">\n",
       "  <thead>\n",
       "    <tr style=\"text-align: right;\">\n",
       "      <th></th>\n",
       "      <th>game</th>\n",
       "      <th>number of reviews</th>\n",
       "      <th>cumulative percentage</th>\n",
       "    </tr>\n",
       "  </thead>\n",
       "  <tbody>\n",
       "    <tr>\n",
       "      <th>0</th>\n",
       "      <td>PLAYERUNKNOWN'S BATTLEGROUNDS</td>\n",
       "      <td>144846</td>\n",
       "      <td>33.42</td>\n",
       "    </tr>\n",
       "    <tr>\n",
       "      <th>1</th>\n",
       "      <td>Grand Theft Auto V</td>\n",
       "      <td>99677</td>\n",
       "      <td>56.42</td>\n",
       "    </tr>\n",
       "    <tr>\n",
       "      <th>2</th>\n",
       "      <td>Rust</td>\n",
       "      <td>70907</td>\n",
       "      <td>72.78</td>\n",
       "    </tr>\n",
       "    <tr>\n",
       "      <th>3</th>\n",
       "      <td>Rocket League®</td>\n",
       "      <td>67765</td>\n",
       "      <td>88.42</td>\n",
       "    </tr>\n",
       "    <tr>\n",
       "      <th>4</th>\n",
       "      <td>Dead by Daylight</td>\n",
       "      <td>22178</td>\n",
       "      <td>93.54</td>\n",
       "    </tr>\n",
       "    <tr>\n",
       "      <th>5</th>\n",
       "      <td>MONSTER HUNTER: WORLD</td>\n",
       "      <td>18390</td>\n",
       "      <td>97.78</td>\n",
       "    </tr>\n",
       "    <tr>\n",
       "      <th>6</th>\n",
       "      <td>ASTRONEER</td>\n",
       "      <td>2658</td>\n",
       "      <td>98.40</td>\n",
       "    </tr>\n",
       "    <tr>\n",
       "      <th>7</th>\n",
       "      <td>The Elder Scrolls V: Skyrim Special Edition</td>\n",
       "      <td>1471</td>\n",
       "      <td>98.73</td>\n",
       "    </tr>\n",
       "    <tr>\n",
       "      <th>8</th>\n",
       "      <td>RESIDENT EVIL 2 / BIOHAZARD RE:2</td>\n",
       "      <td>1384</td>\n",
       "      <td>99.05</td>\n",
       "    </tr>\n",
       "    <tr>\n",
       "      <th>9</th>\n",
       "      <td>Sid Meier’s Civilization® VI</td>\n",
       "      <td>522</td>\n",
       "      <td>99.17</td>\n",
       "    </tr>\n",
       "  </tbody>\n",
       "</table>\n",
       "</div>"
      ],
      "text/plain": [
       "                                          game  number of reviews  \\\n",
       "0                PLAYERUNKNOWN'S BATTLEGROUNDS             144846   \n",
       "1                           Grand Theft Auto V              99677   \n",
       "2                                         Rust              70907   \n",
       "3                               Rocket League®              67765   \n",
       "4                             Dead by Daylight              22178   \n",
       "5                        MONSTER HUNTER: WORLD              18390   \n",
       "6                                    ASTRONEER               2658   \n",
       "7  The Elder Scrolls V: Skyrim Special Edition               1471   \n",
       "8             RESIDENT EVIL 2 / BIOHAZARD RE:2               1384   \n",
       "9                 Sid Meier’s Civilization® VI                522   \n",
       "\n",
       "   cumulative percentage  \n",
       "0                  33.42  \n",
       "1                  56.42  \n",
       "2                  72.78  \n",
       "3                  88.42  \n",
       "4                  93.54  \n",
       "5                  97.78  \n",
       "6                  98.40  \n",
       "7                  98.73  \n",
       "8                  99.05  \n",
       "9                  99.17  "
      ]
     },
     "execution_count": 6,
     "metadata": {},
     "output_type": "execute_result"
    }
   ],
   "source": [
    "review_counts = (\n",
    "    df[\"title\"].value_counts().reset_index()\n",
    ")  # reset_index() to convert series to df\n",
    "review_counts.columns = [\"game\", \"number of reviews\"]  # renaming the columns of the df\n",
    "\n",
    "# total number of reviews\n",
    "total_reviews = review_counts[\"number of reviews\"].sum()\n",
    "\n",
    "# cumulative sum of reviews\n",
    "review_counts[\"cumulative reviews\"] = review_counts[\n",
    "    \"number of reviews\"\n",
    "].cumsum()  # adding a new column to the df\n",
    "\n",
    "# cumulative percentage -> cumulative reviews / total number of reviews\n",
    "review_counts[\"cumulative percentage\"] = round(\n",
    "    (review_counts[\"cumulative reviews\"] / total_reviews) * 100, 2\n",
    ")  # adding a new column to the df\n",
    "\n",
    "# results\n",
    "review_counts[[\"game\", \"number of reviews\", \"cumulative percentage\"]].head(10)"
   ]
  },
  {
   "cell_type": "code",
   "execution_count": 7,
   "metadata": {},
   "outputs": [
    {
     "data": {
      "text/plain": [
       "('2010-12-20', '2019-02-16')"
      ]
     },
     "execution_count": 7,
     "metadata": {},
     "output_type": "execute_result"
    }
   ],
   "source": [
    "df.date_posted.min(), df.date_posted.max()"
   ]
  },
  {
   "cell_type": "markdown",
   "metadata": {},
   "source": [
    "### Number of reviews across time"
   ]
  },
  {
   "cell_type": "code",
   "execution_count": 8,
   "metadata": {},
   "outputs": [
    {
     "data": {
      "image/png": "[encoded data removed]",
      "text/plain": [
       "<Figure size 1200x600 with 1 Axes>"
      ]
     },
     "metadata": {},
     "output_type": "display_data"
    }
   ],
   "source": [
    "df[\"date_posted\"] = pd.to_datetime(df[\"date_posted\"])  # convert to datetime\n",
    "df[\"year\"] = df[\"date_posted\"].dt.year\n",
    "df[\"month\"] = df[\"date_posted\"].dt.month\n",
    "\n",
    "# group by year and month\n",
    "monthly_reviews = df.groupby([\"year\", \"month\"]).size().reset_index()\n",
    "monthly_reviews.columns = [\"year\", \"month\", \"number of reviews\"]\n",
    "\n",
    "# create a datetime column from year and month\n",
    "monthly_reviews[\"date\"] = pd.to_datetime(\n",
    "    monthly_reviews[[\"year\", \"month\"]].assign(day=1)\n",
    ")\n",
    "\n",
    "# plot\n",
    "plt.figure(figsize=(12, 6))\n",
    "plt.plot(\n",
    "    monthly_reviews[\"date\"],\n",
    "    monthly_reviews[\"number of reviews\"],\n",
    "    color=\"blue\",\n",
    "    marker=\"o\",\n",
    "    linestyle=\"-\",\n",
    "    linewidth=1,\n",
    ")\n",
    "plt.title(\"Number of reviews across time\")\n",
    "plt.xlabel(\"Date\")\n",
    "plt.ylabel(\"Number of reviews\")\n",
    "plt.grid()\n",
    "plt.xticks(rotation=45)\n",
    "plt.tight_layout()\n",
    "plt.show()"
   ]
  },
  {
   "cell_type": "code",
   "execution_count": 9,
   "metadata": {},
   "outputs": [
    {
     "data": {
      "text/plain": [
       "year\n",
       "2017    171076\n",
       "2018    126363\n",
       "2016     66697\n",
       "2015     41623\n",
       "2014     15719\n",
       "2019     10160\n",
       "2013      1714\n",
       "2011        11\n",
       "2012        11\n",
       "2010         1\n",
       "Name: count, dtype: int64"
      ]
     },
     "execution_count": 9,
     "metadata": {},
     "output_type": "execute_result"
    }
   ],
   "source": [
    "df[\"year\"].value_counts()"
   ]
  },
  {
   "cell_type": "code",
   "execution_count": 10,
   "metadata": {},
   "outputs": [
    {
     "name": "stdout",
     "output_type": "stream",
     "text": [
      "Number of duplicate rows removed: 0\n"
     ]
    }
   ],
   "source": [
    "# drop duplicate rows\n",
    "initial_row_count = df.shape[0]\n",
    "df = df.drop_duplicates()\n",
    "final_row_count = df.shape[0]\n",
    "\n",
    "duplicates_removed = initial_row_count - final_row_count\n",
    "\n",
    "print(f\"Number of duplicate rows removed: {duplicates_removed}\")"
   ]
  },
  {
   "cell_type": "code",
   "execution_count": 11,
   "metadata": {},
   "outputs": [],
   "source": [
    "def get_number_words(text):\n",
    "    return len(text.split())\n",
    "\n",
    "\n",
    "df[\"length_reviews\"] = df[\"review\"].apply(get_number_words)"
   ]
  },
  {
   "cell_type": "code",
   "execution_count": 12,
   "metadata": {},
   "outputs": [
    {
     "data": {
      "image/png": "[encoded data removed]",
      "text/plain": [
       "<Figure size 1200x600 with 1 Axes>"
      ]
     },
     "metadata": {},
     "output_type": "display_data"
    }
   ],
   "source": [
    "# Plot length of reviews\n",
    "\n",
    "plt.figure(figsize=(12, 6))\n",
    "sns.histplot(df[\"length_reviews\"], color=\"blue\", alpha=0.7, bins=2000)\n",
    "plt.title(\"Distribution of review length\")\n",
    "plt.xlabel(\"Number of words\")\n",
    "plt.xlim(0, 200)\n",
    "plt.ylabel(\"Frequency\")\n",
    "plt.show()"
   ]
  },
  {
   "cell_type": "code",
   "execution_count": 13,
   "metadata": {},
   "outputs": [
    {
     "data": {
      "text/plain": [
       "<Axes: ylabel='length_reviews'>"
      ]
     },
     "execution_count": 13,
     "metadata": {},
     "output_type": "execute_result"
    },
    {
     "data": {
      "image/png": "[encoded data removed]",
      "text/plain": [
       "<Figure size 640x480 with 1 Axes>"
      ]
     },
     "metadata": {},
     "output_type": "display_data"
    }
   ],
   "source": [
    "sns.boxplot(df[\"length_reviews\"], color=\"blue\")"
   ]
  },
  {
   "cell_type": "code",
   "execution_count": 14,
   "metadata": {},
   "outputs": [
    {
     "data": {
      "text/plain": [
       "count    433375.000000\n",
       "mean         40.542842\n",
       "std          87.019107\n",
       "min           1.000000\n",
       "25%           5.000000\n",
       "50%          13.000000\n",
       "75%          39.000000\n",
       "max        7984.000000\n",
       "Name: length_reviews, dtype: float64"
      ]
     },
     "execution_count": 14,
     "metadata": {},
     "output_type": "execute_result"
    }
   ],
   "source": [
    "df[\"length_reviews\"].describe()"
   ]
  },
  {
   "cell_type": "code",
   "execution_count": 15,
   "metadata": {},
   "outputs": [
    {
     "name": "stdout",
     "output_type": "stream",
     "text": [
      "Percentage of reviews with less than 50 words: 79.34%\n",
      "Percentage of reviews with less than 100 words: 90.07%\n",
      "Percentage of reviews with less than 200 words: 96.30%\n"
     ]
    }
   ],
   "source": [
    "less_than_50 = (df[\"length_reviews\"] < 50).mean() * 100\n",
    "less_than_100 = (df[\"length_reviews\"] < 100).mean() * 100\n",
    "less_than_200 = (df[\"length_reviews\"] < 200).mean() * 100\n",
    "\n",
    "# Print the results\n",
    "print(f\"Percentage of reviews with less than 50 words: {less_than_50:.2f}%\")\n",
    "print(f\"Percentage of reviews with less than 100 words: {less_than_100:.2f}%\")\n",
    "print(f\"Percentage of reviews with less than 200 words: {less_than_200:.2f}%\")"
   ]
  }
 ],
 "metadata": {
  "kernelspec": {
   "display_name": "nlp-group-wv9ExQSa-py3.11",
   "language": "python",
   "name": "python3"
  },
  "language_info": {
   "codemirror_mode": {
    "name": "ipython",
    "version": 3
   },
   "file_extension": ".py",
   "mimetype": "text/x-python",
   "name": "python",
   "nbconvert_exporter": "python",
   "pygments_lexer": "ipython3",
   "version": "3.11.5"
  }
 },
 "nbformat": 4,
 "nbformat_minor": 2
}
